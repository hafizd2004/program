{
 "cells": [
  {
   "cell_type": "markdown",
   "metadata": {},
   "source": [
    "# 🍽️ SISTEM PREDIKSI MAKANAN DAN ESTIMASI NILAI GIZI BERBASIS CITRA MENGGUNAKAN DEEP LEARNING\u000b\n",
    "This notebook simulates a Flask-based food image classifier and nutrition predictor."
   ]
  },
  {
   "cell_type": "code",
   "execution_count": 46,
   "id": "f7ddf424",
   "metadata": {},
   "outputs": [],
   "source": [
    "import os\n",
    "import random\n",
    "import torch\n",
    "import torch.nn as nn\n",
    "import torch.nn.functional as F\n",
    "from torchvision import models, transforms\n",
    "from PIL import Image\n",
    "import pandas as pd\n",
    "import matplotlib.pyplot as plt\n",
    "from IPython.display import display\n",
    "import ipywidgets as widgets\n"
   ]
  },
  {
   "cell_type": "markdown",
   "id": "27d6af17",
   "metadata": {},
   "source": [
    "## 📁 Sel 2: Definisikan Path dan Load Dataset Nutrisi\n"
   ]
  },
  {
   "cell_type": "code",
   "execution_count": 47,
   "id": "31196dcd",
   "metadata": {},
   "outputs": [
    {
     "data": {
      "text/html": [
       "<div>\n",
       "<style scoped>\n",
       "    .dataframe tbody tr th:only-of-type {\n",
       "        vertical-align: middle;\n",
       "    }\n",
       "\n",
       "    .dataframe tbody tr th {\n",
       "        vertical-align: top;\n",
       "    }\n",
       "\n",
       "    .dataframe thead th {\n",
       "        text-align: right;\n",
       "    }\n",
       "</style>\n",
       "<table border=\"1\" class=\"dataframe\">\n",
       "  <thead>\n",
       "    <tr style=\"text-align: right;\">\n",
       "      <th></th>\n",
       "      <th>label</th>\n",
       "      <th>weight</th>\n",
       "      <th>calories</th>\n",
       "      <th>protein</th>\n",
       "      <th>carbohydrates</th>\n",
       "      <th>fats</th>\n",
       "      <th>fiber</th>\n",
       "      <th>sugars</th>\n",
       "      <th>sodium</th>\n",
       "    </tr>\n",
       "  </thead>\n",
       "  <tbody>\n",
       "    <tr>\n",
       "      <th>0</th>\n",
       "      <td>apple_pie</td>\n",
       "      <td>80</td>\n",
       "      <td>240</td>\n",
       "      <td>2</td>\n",
       "      <td>36</td>\n",
       "      <td>10</td>\n",
       "      <td>2</td>\n",
       "      <td>16</td>\n",
       "      <td>120</td>\n",
       "    </tr>\n",
       "    <tr>\n",
       "      <th>1</th>\n",
       "      <td>apple_pie</td>\n",
       "      <td>100</td>\n",
       "      <td>300</td>\n",
       "      <td>3</td>\n",
       "      <td>45</td>\n",
       "      <td>12</td>\n",
       "      <td>2</td>\n",
       "      <td>20</td>\n",
       "      <td>150</td>\n",
       "    </tr>\n",
       "    <tr>\n",
       "      <th>2</th>\n",
       "      <td>apple_pie</td>\n",
       "      <td>120</td>\n",
       "      <td>360</td>\n",
       "      <td>4</td>\n",
       "      <td>54</td>\n",
       "      <td>14</td>\n",
       "      <td>3</td>\n",
       "      <td>24</td>\n",
       "      <td>180</td>\n",
       "    </tr>\n",
       "    <tr>\n",
       "      <th>3</th>\n",
       "      <td>apple_pie</td>\n",
       "      <td>150</td>\n",
       "      <td>450</td>\n",
       "      <td>5</td>\n",
       "      <td>68</td>\n",
       "      <td>18</td>\n",
       "      <td>3</td>\n",
       "      <td>30</td>\n",
       "      <td>225</td>\n",
       "    </tr>\n",
       "    <tr>\n",
       "      <th>4</th>\n",
       "      <td>apple_pie</td>\n",
       "      <td>200</td>\n",
       "      <td>600</td>\n",
       "      <td>6</td>\n",
       "      <td>90</td>\n",
       "      <td>24</td>\n",
       "      <td>4</td>\n",
       "      <td>40</td>\n",
       "      <td>300</td>\n",
       "    </tr>\n",
       "  </tbody>\n",
       "</table>\n",
       "</div>"
      ],
      "text/plain": [
       "       label  weight  calories  protein  carbohydrates  fats  fiber  sugars  \\\n",
       "0  apple_pie      80       240        2             36    10      2      16   \n",
       "1  apple_pie     100       300        3             45    12      2      20   \n",
       "2  apple_pie     120       360        4             54    14      3      24   \n",
       "3  apple_pie     150       450        5             68    18      3      30   \n",
       "4  apple_pie     200       600        6             90    24      4      40   \n",
       "\n",
       "   sodium  \n",
       "0     120  \n",
       "1     150  \n",
       "2     180  \n",
       "3     225  \n",
       "4     300  "
      ]
     },
     "execution_count": 47,
     "metadata": {},
     "output_type": "execute_result"
    }
   ],
   "source": [
    "# Direktori utama (ubah sesuai lokasi file)\n",
    "BASE_DIR = '.'\n",
    "\n",
    "# Lokasi model dan data nutrisi\n",
    "MODEL_PATH = os.path.join(BASE_DIR, 'models', 'food101_model.pth')\n",
    "NUTRITION_PATH = os.path.join(BASE_DIR, 'data', 'nutrition.csv')\n",
    "IMAGE_PATH = os.path.join(BASE_DIR, 'static', 'images')\n",
    "\n",
    "# Load data nutrisi ke DataFrame\n",
    "nutrition_df = pd.read_csv(NUTRITION_PATH)\n",
    "nutrition_df.head()\n"
   ]
  },
  {
   "cell_type": "markdown",
   "id": "ac4ddd6b",
   "metadata": {},
   "source": [
    "## 🧠 Sel 3: Load Model Food101 ResNet50"
   ]
  },
  {
   "cell_type": "code",
   "execution_count": 48,
   "id": "d96b49b7",
   "metadata": {},
   "outputs": [
    {
     "name": "stdout",
     "output_type": "stream",
     "text": [
      "Model dimuat dengan 101 kelas.\n"
     ]
    }
   ],
   "source": [
    "def load_model():\n",
    "    model = models.resnet50()\n",
    "    model.fc = nn.Sequential(\n",
    "        nn.Dropout(0.4),\n",
    "        nn.Linear(model.fc.in_features, 101)\n",
    "    )\n",
    "    checkpoint = torch.load(MODEL_PATH, map_location='cpu')\n",
    "    model.load_state_dict(checkpoint['model_state_dict'])\n",
    "    model.eval()\n",
    "    idx_to_class = checkpoint['idx_to_class']\n",
    "    return model, idx_to_class\n",
    "\n",
    "model, idx_to_class = load_model()\n",
    "print(f\"Model dimuat dengan {len(idx_to_class)} kelas.\")\n"
   ]
  },
  {
   "cell_type": "markdown",
   "id": "0de40683",
   "metadata": {},
   "source": [
    "## 🖼️ Sel 4: Fungsi Preprocessing Gambar"
   ]
  },
  {
   "cell_type": "code",
   "execution_count": 49,
   "id": "0bde814a",
   "metadata": {},
   "outputs": [],
   "source": [
    "def preprocess_image(image_path):\n",
    "    transform = transforms.Compose([\n",
    "        transforms.Resize(256),\n",
    "        transforms.CenterCrop(224),\n",
    "        transforms.ToTensor(),\n",
    "        transforms.Normalize([0.485, 0.456, 0.406],\n",
    "                             [0.229, 0.224, 0.225])\n",
    "    ])\n",
    "    image = Image.open(image_path).convert('RGB')\n",
    "    tensor = transform(image).unsqueeze(0)\n",
    "    return tensor, image\n"
   ]
  },
  {
   "cell_type": "markdown",
   "id": "17f673ee",
   "metadata": {},
   "source": [
    "## 🔍 Sel 5: Fungsi Prediksi Label dan Confidence"
   ]
  },
  {
   "cell_type": "code",
   "execution_count": 50,
   "id": "3fd39eda",
   "metadata": {},
   "outputs": [],
   "source": [
    "def predict_label(tensor):\n",
    "    with torch.no_grad():\n",
    "        output = model(tensor)\n",
    "        prob = F.softmax(output, dim=1)\n",
    "        top_prob, top_idx = torch.max(prob, 1)\n",
    "        label = idx_to_class[top_idx.item()]\n",
    "        confidence = top_prob.item()\n",
    "    return label, confidence\n"
   ]
  },
  {
   "cell_type": "markdown",
   "id": "959172d4",
   "metadata": {},
   "source": [
    "## 🥗 Sel 6: Fungsi Mendapatkan Berat Tersedia per Kategori"
   ]
  },
  {
   "cell_type": "code",
   "execution_count": 51,
   "id": "749efd29",
   "metadata": {},
   "outputs": [],
   "source": [
    "def get_weight_options(categories):\n",
    "    weight_options = {}\n",
    "    for cat in categories:\n",
    "        weights = nutrition_df[nutrition_df['label'].str.contains(cat, case=False)]['weight'].unique()\n",
    "        weight_options[cat] = sorted(weights.tolist())\n",
    "    return weight_options\n"
   ]
  },
  {
   "cell_type": "markdown",
   "id": "82ef3557",
   "metadata": {},
   "source": [
    "## 🔁 Sel 7: Fungsi Mendapatkan Data Nutrisi Berdasarkan Label dan Berat"
   ]
  },
  {
   "cell_type": "code",
   "execution_count": 52,
   "id": "c7b417af",
   "metadata": {},
   "outputs": [],
   "source": [
    "def get_nutrition(label, weight):\n",
    "    filtered = nutrition_df[nutrition_df['label'].str.contains(label, case=False)]\n",
    "    filtered = filtered[filtered['weight'] == float(weight)]\n",
    "    if filtered.empty:\n",
    "        return None\n",
    "    row = filtered.iloc[0]\n",
    "    return {\n",
    "        'Calories': row['calories'],\n",
    "        'Protein (g)': row['protein'],\n",
    "        'Carbohydrates (g)': row['carbohydrates'],\n",
    "        'Fat (g)': row['fats'],\n",
    "        'Fiber (g)': row['fiber'],\n",
    "        'Sugars (g)': row['sugars'],\n",
    "        'Sodium (mg)': row['sodium']\n",
    "    }\n"
   ]
  },
  {
   "cell_type": "markdown",
   "id": "7770fd15",
   "metadata": {},
   "source": [
    "## ▶️ Sel 8: Siapkan Widget Interaktif untuk Pilihan Kategori dan Berat"
   ]
  },
  {
   "cell_type": "code",
   "execution_count": 53,
   "id": "c75c776e",
   "metadata": {},
   "outputs": [],
   "source": [
    "# Dapatkan daftar kategori berdasarkan folder gambar\n",
    "categories = [cat for cat in os.listdir(IMAGE_PATH) if os.path.isdir(os.path.join(IMAGE_PATH, cat))]\n",
    "weight_options = get_weight_options(categories)\n",
    "\n",
    "category_dropdown = widgets.Dropdown(options=categories, description='Kategori:')\n",
    "weight_dropdown = widgets.Dropdown(description='Berat (g):')\n",
    "\n",
    "def update_weight_options(change=None):\n",
    "    selected_cat = category_dropdown.value\n",
    "    weights = weight_options.get(selected_cat, [100])\n",
    "    weight_dropdown.options = weights\n",
    "\n",
    "category_dropdown.observe(update_weight_options, names='value')\n",
    "update_weight_options()\n"
   ]
  },
  {
   "cell_type": "markdown",
   "id": "1271ea9e",
   "metadata": {},
   "source": [
    "## 9. Fungsi dan Tombol Prediksi"
   ]
  },
  {
   "cell_type": "code",
   "execution_count": 56,
   "id": "eab3cd50",
   "metadata": {},
   "outputs": [],
   "source": [
    "predict_button = widgets.Button(description=\"Prediksi\")\n",
    "output = widgets.Output()\n",
    "\n",
    "def on_predict_clicked(b):\n",
    "    with output:\n",
    "        output.clear_output()\n",
    "        category = category_dropdown.value\n",
    "        weight = float(weight_dropdown.value)\n",
    "        \n",
    "        image_dir = os.path.join(IMAGE_PATH, category)\n",
    "        image_files = [f for f in os.listdir(image_dir) if f.lower().endswith(('.jpg', '.jpeg', '.png'))]\n",
    "        if not image_files:\n",
    "            print(\"Tidak ada gambar dalam kategori ini.\")\n",
    "            return\n",
    "        \n",
    "        image_name = random.choice(image_files)\n",
    "        image_path = os.path.join(image_dir, image_name)\n",
    "        tensor, image = preprocess_image(image_path)\n",
    "        label, confidence = predict_label(tensor)\n",
    "        nutrition = get_nutrition(label, weight)\n",
    "        \n",
    "        print(f\"📷 Gambar: {image_name}\")\n",
    "        print(f\"🍽️ Prediksi: {label}\")\n",
    "        print(f\"🎯 Akurasi: {confidence*100:.2f}%\")\n",
    "        print(\"📊 Nutrisi:\")\n",
    "        if nutrition:\n",
    "            for k, v in nutrition.items():\n",
    "                print(f\"  {k}: {v}\")\n",
    "        else:\n",
    "            print(\"  Data nutrisi tidak ditemukan untuk pilihan ini.\")\n",
    "        \n",
    "        plt.imshow(image)\n",
    "        plt.axis('off')\n",
    "        plt.title(f\"Prediksi: {label} ({confidence*100:.1f}%)\")\n",
    "        plt.show()\n",
    "\n",
    "predict_button.on_click(on_predict_clicked)\n"
   ]
  },
  {
   "cell_type": "markdown",
   "id": "db649fe3",
   "metadata": {},
   "source": [
    "## 10. Tampilkan Widget Interaktif"
   ]
  },
  {
   "cell_type": "code",
   "execution_count": 57,
   "id": "e5c4b4b9",
   "metadata": {},
   "outputs": [
    {
     "data": {
      "application/vnd.jupyter.widget-view+json": {
       "model_id": "881419dbdb74412d9d6968c4c522ab9e",
       "version_major": 2,
       "version_minor": 0
      },
      "text/plain": [
       "Dropdown(description='Kategori:', options=('apple_pie', 'baby_back_ribs', 'baklava', 'beef_carpaccio', 'beef_t…"
      ]
     },
     "metadata": {},
     "output_type": "display_data"
    },
    {
     "data": {
      "application/vnd.jupyter.widget-view+json": {
       "model_id": "4e0121c88d3542a3816b00d01bd207eb",
       "version_major": 2,
       "version_minor": 0
      },
      "text/plain": [
       "Dropdown(description='Berat (g):', options=(80, 100, 120, 150, 200), value=None)"
      ]
     },
     "metadata": {},
     "output_type": "display_data"
    },
    {
     "data": {
      "application/vnd.jupyter.widget-view+json": {
       "model_id": "815766459c6042728a473e657bcf16df",
       "version_major": 2,
       "version_minor": 0
      },
      "text/plain": [
       "Button(description='Prediksi', style=ButtonStyle())"
      ]
     },
     "metadata": {},
     "output_type": "display_data"
    },
    {
     "data": {
      "application/vnd.jupyter.widget-view+json": {
       "model_id": "f3c00b1366ef4fb49874f8d08149ba70",
       "version_major": 2,
       "version_minor": 0
      },
      "text/plain": [
       "Output()"
      ]
     },
     "metadata": {},
     "output_type": "display_data"
    }
   ],
   "source": [
    "display(category_dropdown, weight_dropdown, predict_button, output)\n"
   ]
  }
 ],
 "metadata": {
  "kernelspec": {
   "display_name": "Python 3",
   "language": "python",
   "name": "python3"
  },
  "language_info": {
   "name": "python",
   "version": "3.12.10"
  }
 },
 "nbformat": 4,
 "nbformat_minor": 5
}
